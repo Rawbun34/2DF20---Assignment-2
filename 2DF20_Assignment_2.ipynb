{
 "cells": [
  {
   "cell_type": "code",
   "execution_count": 1,
   "id": "de803b42",
   "metadata": {},
   "outputs": [
    {
     "name": "stdout",
     "output_type": "stream",
     "text": [
      "      mag\n",
      "10    5.0\n",
      "24    5.8\n",
      "29    5.3\n",
      "33    5.2\n",
      "74    5.0\n",
      "...   ...\n",
      "1605  5.0\n",
      "1616  5.0\n",
      "1629  5.1\n",
      "1630  5.2\n",
      "1632  5.1\n",
      "\n",
      "[174 rows x 1 columns]\n",
      "Number of values with mag >= 5: 174\n",
      "      mag\n",
      "0     4.4\n",
      "1     4.2\n",
      "2     4.1\n",
      "3     4.4\n",
      "4     4.5\n",
      "...   ...\n",
      "1645  4.4\n",
      "1646  4.5\n",
      "1647  4.6\n",
      "1648  4.7\n",
      "1649  4.2\n",
      "\n",
      "[1476 rows x 1 columns]\n",
      "Number of values with mag < 5: 1476\n"
     ]
    }
   ],
   "source": [
    "import pandas as pd\n",
    "import matplotlib\n",
    "import matplotlib.pyplot as plt\n",
    "import geopandas as gpd\n",
    "dataOrg = pd.read_csv('earthquake_dataset.csv')\n",
    "\n",
    "filtered_data_higher = dataOrg[dataOrg['mag'] >= 5]\n",
    "filtered_data_lower = dataOrg[dataOrg['mag'] < 5]\n",
    "\n",
    "result_higher = filtered_data_higher[['mag']]\n",
    "result_lower = filtered_data_lower[['mag']]\n",
    "\n",
    "count_higher = filtered_data_higher['mag'].count()\n",
    "count_lower = filtered_data_lower['mag'].count()\n",
    "\n",
    "print(result_higher)\n",
    "print(\"Number of values with mag >= 5:\", count_higher)\n",
    "\n",
    "print(result_lower)\n",
    "print(\"Number of values with mag < 5:\", count_lower)"
   ]
  },
  {
   "cell_type": "code",
   "execution_count": 2,
   "id": "b0ace29a",
   "metadata": {},
   "outputs": [
    {
     "name": "stdout",
     "output_type": "stream",
     "text": [
      "                          time  latitude  longitude   depth  mag magType  \\\n",
      "0     2014-09-26T15:38:16.000Z  -20.1000   119.5340  10.000  4.4      mb   \n",
      "1     2014-10-02T15:52:57.360Z  -10.3478   113.2808  34.820  4.2      mb   \n",
      "2     2014-10-02T19:46:04.280Z   -9.0761   115.9067  49.760  4.1      mb   \n",
      "3     2014-10-03T04:57:28.570Z   -9.1953   110.3486  46.440  4.4      mb   \n",
      "4     2014-10-03T05:26:29.940Z   -9.4264   110.3297  60.700  4.5      mb   \n",
      "...                        ...       ...        ...     ...  ...     ...   \n",
      "1645  2024-09-02T14:32:58.275Z   -9.5553   122.0311  65.322  4.4      mb   \n",
      "1646  2024-09-06T19:58:33.208Z  -32.3238   150.7448   8.069  4.5      mb   \n",
      "1647  2024-09-13T17:19:49.577Z   -9.2629   110.3796  35.000  4.6      mb   \n",
      "1648  2024-09-13T21:59:59.504Z   -9.3209   110.3426  10.000  4.7      mb   \n",
      "1649  2024-09-22T06:16:40.420Z   -9.7413   117.4617  36.431  4.2      mb   \n",
      "\n",
      "       nst    gap   dmin   rms  ...                                 place  \\\n",
      "0      NaN    NaN    NaN  2.49  ...  99 km ENE of Port Hedland, Australia   \n",
      "1      NaN   88.0  2.054  1.07  ...        228 km S of Kencong, Indonesia   \n",
      "2      NaN  102.0  1.835  0.66  ...        42 km SSW of Lembar, Indonesia   \n",
      "3      NaN   66.0  1.286  0.97  ...        137 km S of Pundong, Indonesia   \n",
      "4      NaN   92.0  1.516  0.67  ...        163 km S of Pundong, Indonesia   \n",
      "...    ...    ...    ...   ...  ...                                   ...   \n",
      "1645  28.0   76.0  0.936  0.50  ...          88 km SSE of Ende, Indonesia   \n",
      "1646  22.0  103.0  2.045  0.66  ...          8 km NE of Denman, Australia   \n",
      "1647  72.0   57.0  2.200  1.02  ...        145 km S of Pundong, Indonesia   \n",
      "1648  42.0   57.0  2.259  1.38  ...        151 km S of Pundong, Indonesia   \n",
      "1649  14.0  110.0  3.504  0.85  ...     128 km SSE of Taliwang, Indonesia   \n",
      "\n",
      "            type horizontalError depthError magError  magNst    status  \\\n",
      "0     earthquake            4.90      1.900    0.202     7.0  reviewed   \n",
      "1     earthquake            8.40      4.900    0.175    11.0  reviewed   \n",
      "2     earthquake           10.00      7.700    0.145    15.0  reviewed   \n",
      "3     earthquake            8.10      6.800    0.155    20.0  reviewed   \n",
      "4     earthquake            4.90      9.300    0.113    25.0  reviewed   \n",
      "...          ...             ...        ...      ...     ...       ...   \n",
      "1645  earthquake            7.13      6.117    0.110    24.0  reviewed   \n",
      "1646  earthquake            7.61      4.464    0.121    20.0  reviewed   \n",
      "1647  earthquake            6.31      1.899    0.070    69.0  reviewed   \n",
      "1648  earthquake            6.19      1.649    0.098    32.0  reviewed   \n",
      "1649  earthquake            7.59     16.397    0.159    11.0  reviewed   \n",
      "\n",
      "      locationSource  magSource                     geometry  \n",
      "0               aust         us  POINT (119.53400 -20.10000)  \n",
      "1                 us         us  POINT (113.28080 -10.34780)  \n",
      "2                 us         us   POINT (115.90670 -9.07610)  \n",
      "3                 us         us   POINT (110.34860 -9.19530)  \n",
      "4                 us         us   POINT (110.32970 -9.42640)  \n",
      "...              ...        ...                          ...  \n",
      "1645              us         us   POINT (122.03110 -9.55530)  \n",
      "1646              us         us  POINT (150.74480 -32.32380)  \n",
      "1647              us         us   POINT (110.37960 -9.26290)  \n",
      "1648              us         us   POINT (110.34260 -9.32090)  \n",
      "1649              us         us   POINT (117.46170 -9.74130)  \n",
      "\n",
      "[1650 rows x 23 columns]\n"
     ]
    }
   ],
   "source": [
    "# Plot map of investigating region\n",
    "df_geo = gpd.GeoDataFrame(dataOrg, geometry = gpd.points_from_xy(dataOrg.longitude, dataOrg.latitude))\n",
    "print(df_geo)\n",
    "world_data = gpd.datasets.get_path('naturalearth_lowres')"
   ]
  },
  {
   "cell_type": "code",
   "execution_count": 3,
   "id": "957dc315",
   "metadata": {},
   "outputs": [],
   "source": [
    "# Example tepmplate from assignment file\n",
    "dataOrg['DateTime'] = pd.to_datetime(dataOrg['time'])\n",
    "data = dataOrg.sort_values(by='DateTime')\n",
    "selection1 = (data['DateTime'].dt.year >= 1980) & (data['DateTime'].dt.year < 2010)\n",
    "selection2 = data['place'].str.contains('netherlands', case=False)\n",
    "data = data[selection1 & selection2]"
   ]
  }
 ],
 "metadata": {
  "kernelspec": {
   "display_name": "Python 3 (ipykernel)",
   "language": "python",
   "name": "python3"
  },
  "language_info": {
   "codemirror_mode": {
    "name": "ipython",
    "version": 3
   },
   "file_extension": ".py",
   "mimetype": "text/x-python",
   "name": "python",
   "nbconvert_exporter": "python",
   "pygments_lexer": "ipython3",
   "version": "3.9.17"
  }
 },
 "nbformat": 4,
 "nbformat_minor": 5
}
