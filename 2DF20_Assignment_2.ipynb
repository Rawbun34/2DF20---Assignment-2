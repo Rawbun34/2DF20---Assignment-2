{
 "cells": [
  {
   "cell_type": "code",
   "execution_count": 32,
   "id": "de803b42",
   "metadata": {},
   "outputs": [
    {
     "ename": "KeyError",
     "evalue": "\"['longtitude'] not in index\"",
     "output_type": "error",
     "traceback": [
      "\u001b[1;31m---------------------------------------------------------------------------\u001b[0m",
      "\u001b[1;31mKeyError\u001b[0m                                  Traceback (most recent call last)",
      "Cell \u001b[1;32mIn[32], line 7\u001b[0m\n\u001b[0;32m      4\u001b[0m \u001b[38;5;28;01mimport\u001b[39;00m \u001b[38;5;21;01mgeopandas\u001b[39;00m \u001b[38;5;28;01mas\u001b[39;00m \u001b[38;5;21;01mgpd\u001b[39;00m\n\u001b[0;32m      5\u001b[0m dataOrg \u001b[38;5;241m=\u001b[39m pd\u001b[38;5;241m.\u001b[39mread_csv(\u001b[38;5;124m'\u001b[39m\u001b[38;5;124mearthquake_dataset.csv\u001b[39m\u001b[38;5;124m'\u001b[39m)\n\u001b[1;32m----> 7\u001b[0m data_modified \u001b[38;5;241m=\u001b[39m \u001b[43mdataOrg\u001b[49m\u001b[43m[\u001b[49m\u001b[43m[\u001b[49m\u001b[38;5;124;43m'\u001b[39;49m\u001b[38;5;124;43mtime\u001b[39;49m\u001b[38;5;124;43m'\u001b[39;49m\u001b[43m,\u001b[49m\u001b[43m \u001b[49m\u001b[38;5;124;43m'\u001b[39;49m\u001b[38;5;124;43mlatitude\u001b[39;49m\u001b[38;5;124;43m'\u001b[39;49m\u001b[43m,\u001b[49m\u001b[43m \u001b[49m\u001b[38;5;124;43m'\u001b[39;49m\u001b[38;5;124;43mlongtitude\u001b[39;49m\u001b[38;5;124;43m'\u001b[39;49m\u001b[43m,\u001b[49m\u001b[43m \u001b[49m\u001b[38;5;124;43m'\u001b[39;49m\u001b[38;5;124;43mmag\u001b[39;49m\u001b[38;5;124;43m'\u001b[39;49m\u001b[43m]\u001b[49m\u001b[43m]\u001b[49m\n\u001b[0;32m      8\u001b[0m data_modified\u001b[38;5;241m.\u001b[39mhead()\n\u001b[0;32m     10\u001b[0m \u001b[38;5;66;03m# filtered_data_higher = dataOrg[dataOrg['mag'] >= 5]\u001b[39;00m\n\u001b[0;32m     11\u001b[0m \u001b[38;5;66;03m# filtered_data_lower = dataOrg[dataOrg['mag'] < 5]\u001b[39;00m\n\u001b[0;32m     12\u001b[0m \n\u001b[1;32m   (...)\u001b[0m\n\u001b[0;32m     22\u001b[0m \n\u001b[0;32m     23\u001b[0m \u001b[38;5;66;03m# print(\"Number of values with mag < 5:\", count_lower)\u001b[39;00m\n",
      "File \u001b[1;32m~\\AppData\\Local\\Packages\\PythonSoftwareFoundation.Python.3.11_qbz5n2kfra8p0\\LocalCache\\local-packages\\Python311\\site-packages\\pandas\\core\\frame.py:4108\u001b[0m, in \u001b[0;36mDataFrame.__getitem__\u001b[1;34m(self, key)\u001b[0m\n\u001b[0;32m   4106\u001b[0m     \u001b[38;5;28;01mif\u001b[39;00m is_iterator(key):\n\u001b[0;32m   4107\u001b[0m         key \u001b[38;5;241m=\u001b[39m \u001b[38;5;28mlist\u001b[39m(key)\n\u001b[1;32m-> 4108\u001b[0m     indexer \u001b[38;5;241m=\u001b[39m \u001b[38;5;28;43mself\u001b[39;49m\u001b[38;5;241;43m.\u001b[39;49m\u001b[43mcolumns\u001b[49m\u001b[38;5;241;43m.\u001b[39;49m\u001b[43m_get_indexer_strict\u001b[49m\u001b[43m(\u001b[49m\u001b[43mkey\u001b[49m\u001b[43m,\u001b[49m\u001b[43m \u001b[49m\u001b[38;5;124;43m\"\u001b[39;49m\u001b[38;5;124;43mcolumns\u001b[39;49m\u001b[38;5;124;43m\"\u001b[39;49m\u001b[43m)\u001b[49m[\u001b[38;5;241m1\u001b[39m]\n\u001b[0;32m   4110\u001b[0m \u001b[38;5;66;03m# take() does not accept boolean indexers\u001b[39;00m\n\u001b[0;32m   4111\u001b[0m \u001b[38;5;28;01mif\u001b[39;00m \u001b[38;5;28mgetattr\u001b[39m(indexer, \u001b[38;5;124m\"\u001b[39m\u001b[38;5;124mdtype\u001b[39m\u001b[38;5;124m\"\u001b[39m, \u001b[38;5;28;01mNone\u001b[39;00m) \u001b[38;5;241m==\u001b[39m \u001b[38;5;28mbool\u001b[39m:\n",
      "File \u001b[1;32m~\\AppData\\Local\\Packages\\PythonSoftwareFoundation.Python.3.11_qbz5n2kfra8p0\\LocalCache\\local-packages\\Python311\\site-packages\\pandas\\core\\indexes\\base.py:6200\u001b[0m, in \u001b[0;36mIndex._get_indexer_strict\u001b[1;34m(self, key, axis_name)\u001b[0m\n\u001b[0;32m   6197\u001b[0m \u001b[38;5;28;01melse\u001b[39;00m:\n\u001b[0;32m   6198\u001b[0m     keyarr, indexer, new_indexer \u001b[38;5;241m=\u001b[39m \u001b[38;5;28mself\u001b[39m\u001b[38;5;241m.\u001b[39m_reindex_non_unique(keyarr)\n\u001b[1;32m-> 6200\u001b[0m \u001b[38;5;28;43mself\u001b[39;49m\u001b[38;5;241;43m.\u001b[39;49m\u001b[43m_raise_if_missing\u001b[49m\u001b[43m(\u001b[49m\u001b[43mkeyarr\u001b[49m\u001b[43m,\u001b[49m\u001b[43m \u001b[49m\u001b[43mindexer\u001b[49m\u001b[43m,\u001b[49m\u001b[43m \u001b[49m\u001b[43maxis_name\u001b[49m\u001b[43m)\u001b[49m\n\u001b[0;32m   6202\u001b[0m keyarr \u001b[38;5;241m=\u001b[39m \u001b[38;5;28mself\u001b[39m\u001b[38;5;241m.\u001b[39mtake(indexer)\n\u001b[0;32m   6203\u001b[0m \u001b[38;5;28;01mif\u001b[39;00m \u001b[38;5;28misinstance\u001b[39m(key, Index):\n\u001b[0;32m   6204\u001b[0m     \u001b[38;5;66;03m# GH 42790 - Preserve name from an Index\u001b[39;00m\n",
      "File \u001b[1;32m~\\AppData\\Local\\Packages\\PythonSoftwareFoundation.Python.3.11_qbz5n2kfra8p0\\LocalCache\\local-packages\\Python311\\site-packages\\pandas\\core\\indexes\\base.py:6252\u001b[0m, in \u001b[0;36mIndex._raise_if_missing\u001b[1;34m(self, key, indexer, axis_name)\u001b[0m\n\u001b[0;32m   6249\u001b[0m     \u001b[38;5;28;01mraise\u001b[39;00m \u001b[38;5;167;01mKeyError\u001b[39;00m(\u001b[38;5;124mf\u001b[39m\u001b[38;5;124m\"\u001b[39m\u001b[38;5;124mNone of [\u001b[39m\u001b[38;5;132;01m{\u001b[39;00mkey\u001b[38;5;132;01m}\u001b[39;00m\u001b[38;5;124m] are in the [\u001b[39m\u001b[38;5;132;01m{\u001b[39;00maxis_name\u001b[38;5;132;01m}\u001b[39;00m\u001b[38;5;124m]\u001b[39m\u001b[38;5;124m\"\u001b[39m)\n\u001b[0;32m   6251\u001b[0m not_found \u001b[38;5;241m=\u001b[39m \u001b[38;5;28mlist\u001b[39m(ensure_index(key)[missing_mask\u001b[38;5;241m.\u001b[39mnonzero()[\u001b[38;5;241m0\u001b[39m]]\u001b[38;5;241m.\u001b[39munique())\n\u001b[1;32m-> 6252\u001b[0m \u001b[38;5;28;01mraise\u001b[39;00m \u001b[38;5;167;01mKeyError\u001b[39;00m(\u001b[38;5;124mf\u001b[39m\u001b[38;5;124m\"\u001b[39m\u001b[38;5;132;01m{\u001b[39;00mnot_found\u001b[38;5;132;01m}\u001b[39;00m\u001b[38;5;124m not in index\u001b[39m\u001b[38;5;124m\"\u001b[39m)\n",
      "\u001b[1;31mKeyError\u001b[0m: \"['longtitude'] not in index\""
     ]
    }
   ],
   "source": [
    "import pandas as pd\n",
    "import matplotlib\n",
    "import matplotlib.pyplot as plt\n",
    "import geopandas as gpd\n",
    "dataOrg = pd.read_csv('earthquake_dataset.csv')\n",
    "\n",
    "data_modified = dataOrg[['time', 'latitude', 'longtitude', 'mag']]\n",
    "data_modified.head()\n",
    "\n",
    "# filtered_data_higher = dataOrg[dataOrg['mag'] >= 5]\n",
    "# filtered_data_lower = dataOrg[dataOrg['mag'] < 5]\n",
    "\n",
    "# result_higher = filtered_data_higher[['mag']]\n",
    "# result_lower = filtered_data_lower[['mag']]\n",
    "\n",
    "# count_higher = filtered_data_higher['mag'].count()\n",
    "# count_lower = filtered_data_lower['mag'].count()\n",
    "\n",
    "# print(dataOrg.head())\n",
    "\n",
    "# print(\"Number of values with mag >= 5:\", count_higher)\n",
    "\n",
    "# print(\"Number of values with mag < 5:\", count_lower)"
   ]
  },
  {
   "cell_type": "code",
   "execution_count": 30,
   "id": "b0ace29a",
   "metadata": {},
   "outputs": [
    {
     "name": "stdout",
     "output_type": "stream",
     "text": [
      "                          time  latitude  longitude   depth  mag magType  \\\n",
      "0     2014-09-26T15:38:16.000Z  -20.1000   119.5340  10.000  4.4      mb   \n",
      "1     2014-10-02T15:52:57.360Z  -10.3478   113.2808  34.820  4.2      mb   \n",
      "2     2014-10-02T19:46:04.280Z   -9.0761   115.9067  49.760  4.1      mb   \n",
      "3     2014-10-03T04:57:28.570Z   -9.1953   110.3486  46.440  4.4      mb   \n",
      "4     2014-10-03T05:26:29.940Z   -9.4264   110.3297  60.700  4.5      mb   \n",
      "...                        ...       ...        ...     ...  ...     ...   \n",
      "1645  2024-09-02T14:32:58.275Z   -9.5553   122.0311  65.322  4.4      mb   \n",
      "1646  2024-09-06T19:58:33.208Z  -32.3238   150.7448   8.069  4.5      mb   \n",
      "1647  2024-09-13T17:19:49.577Z   -9.2629   110.3796  35.000  4.6      mb   \n",
      "1648  2024-09-13T21:59:59.504Z   -9.3209   110.3426  10.000  4.7      mb   \n",
      "1649  2024-09-22T06:16:40.420Z   -9.7413   117.4617  36.431  4.2      mb   \n",
      "\n",
      "       nst    gap   dmin   rms  ...                                 place  \\\n",
      "0      NaN    NaN    NaN  2.49  ...  99 km ENE of Port Hedland, Australia   \n",
      "1      NaN   88.0  2.054  1.07  ...        228 km S of Kencong, Indonesia   \n",
      "2      NaN  102.0  1.835  0.66  ...        42 km SSW of Lembar, Indonesia   \n",
      "3      NaN   66.0  1.286  0.97  ...        137 km S of Pundong, Indonesia   \n",
      "4      NaN   92.0  1.516  0.67  ...        163 km S of Pundong, Indonesia   \n",
      "...    ...    ...    ...   ...  ...                                   ...   \n",
      "1645  28.0   76.0  0.936  0.50  ...          88 km SSE of Ende, Indonesia   \n",
      "1646  22.0  103.0  2.045  0.66  ...          8 km NE of Denman, Australia   \n",
      "1647  72.0   57.0  2.200  1.02  ...        145 km S of Pundong, Indonesia   \n",
      "1648  42.0   57.0  2.259  1.38  ...        151 km S of Pundong, Indonesia   \n",
      "1649  14.0  110.0  3.504  0.85  ...     128 km SSE of Taliwang, Indonesia   \n",
      "\n",
      "            type horizontalError depthError magError  magNst    status  \\\n",
      "0     earthquake            4.90      1.900    0.202     7.0  reviewed   \n",
      "1     earthquake            8.40      4.900    0.175    11.0  reviewed   \n",
      "2     earthquake           10.00      7.700    0.145    15.0  reviewed   \n",
      "3     earthquake            8.10      6.800    0.155    20.0  reviewed   \n",
      "4     earthquake            4.90      9.300    0.113    25.0  reviewed   \n",
      "...          ...             ...        ...      ...     ...       ...   \n",
      "1645  earthquake            7.13      6.117    0.110    24.0  reviewed   \n",
      "1646  earthquake            7.61      4.464    0.121    20.0  reviewed   \n",
      "1647  earthquake            6.31      1.899    0.070    69.0  reviewed   \n",
      "1648  earthquake            6.19      1.649    0.098    32.0  reviewed   \n",
      "1649  earthquake            7.59     16.397    0.159    11.0  reviewed   \n",
      "\n",
      "      locationSource  magSource                   geometry  \n",
      "0               aust         us      POINT (119.534 -20.1)  \n",
      "1                 us         us  POINT (113.2808 -10.3478)  \n",
      "2                 us         us   POINT (115.9067 -9.0761)  \n",
      "3                 us         us   POINT (110.3486 -9.1953)  \n",
      "4                 us         us   POINT (110.3297 -9.4264)  \n",
      "...              ...        ...                        ...  \n",
      "1645              us         us   POINT (122.0311 -9.5553)  \n",
      "1646              us         us  POINT (150.7448 -32.3238)  \n",
      "1647              us         us   POINT (110.3796 -9.2629)  \n",
      "1648              us         us   POINT (110.3426 -9.3209)  \n",
      "1649              us         us   POINT (117.4617 -9.7413)  \n",
      "\n",
      "[1650 rows x 23 columns]\n"
     ]
    }
   ],
   "source": [
    "# Plot map of investigating region\n",
    "df_geo = gpd.GeoDataFrame(dataOrg, geometry = gpd.points_from_xy(dataOrg.longitude, dataOrg.latitude))\n",
    "print(df_geo)"
   ]
  }
 ],
 "metadata": {
  "kernelspec": {
   "display_name": "Python 3 (ipykernel)",
   "language": "python",
   "name": "python3"
  },
  "language_info": {
   "codemirror_mode": {
    "name": "ipython",
    "version": 3
   },
   "file_extension": ".py",
   "mimetype": "text/x-python",
   "name": "python",
   "nbconvert_exporter": "python",
   "pygments_lexer": "ipython3",
   "version": "3.11.9"
  }
 },
 "nbformat": 4,
 "nbformat_minor": 5
}
