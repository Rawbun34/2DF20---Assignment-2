{
 "cells": [
  {
   "cell_type": "code",
   "execution_count": 1,
   "id": "de803b42",
   "metadata": {},
   "outputs": [
    {
     "name": "stdout",
     "output_type": "stream",
     "text": [
      "<class 'pandas.core.frame.DataFrame'>\n",
      "RangeIndex: 1650 entries, 0 to 1649\n",
      "Data columns (total 4 columns):\n",
      " #   Column     Non-Null Count  Dtype              \n",
      "---  ------     --------------  -----              \n",
      " 0   time       1650 non-null   datetime64[ns, UTC]\n",
      " 1   latitude   1650 non-null   float64            \n",
      " 2   longitude  1650 non-null   float64            \n",
      " 3   mag        1650 non-null   float64            \n",
      "dtypes: datetime64[ns, UTC](1), float64(3)\n",
      "memory usage: 51.7 KB\n"
     ]
    },
    {
     "name": "stderr",
     "output_type": "stream",
     "text": [
      "C:\\Users\\robin\\AppData\\Local\\Temp\\ipykernel_12316\\4262284524.py:9: SettingWithCopyWarning: \n",
      "A value is trying to be set on a copy of a slice from a DataFrame.\n",
      "Try using .loc[row_indexer,col_indexer] = value instead\n",
      "\n",
      "See the caveats in the documentation: https://pandas.pydata.org/pandas-docs/stable/user_guide/indexing.html#returning-a-view-versus-a-copy\n",
      "  data_modified['time'] = pd.to_datetime(df['time'])\n"
     ]
    },
    {
     "data": {
      "text/html": [
       "<div>\n",
       "<style scoped>\n",
       "    .dataframe tbody tr th:only-of-type {\n",
       "        vertical-align: middle;\n",
       "    }\n",
       "\n",
       "    .dataframe tbody tr th {\n",
       "        vertical-align: top;\n",
       "    }\n",
       "\n",
       "    .dataframe thead th {\n",
       "        text-align: right;\n",
       "    }\n",
       "</style>\n",
       "<table border=\"1\" class=\"dataframe\">\n",
       "  <thead>\n",
       "    <tr style=\"text-align: right;\">\n",
       "      <th></th>\n",
       "      <th>time</th>\n",
       "      <th>latitude</th>\n",
       "      <th>longitude</th>\n",
       "      <th>mag</th>\n",
       "    </tr>\n",
       "  </thead>\n",
       "  <tbody>\n",
       "    <tr>\n",
       "      <th>0</th>\n",
       "      <td>2014-09-26 15:38:16+00:00</td>\n",
       "      <td>-20.1000</td>\n",
       "      <td>119.5340</td>\n",
       "      <td>4.4</td>\n",
       "    </tr>\n",
       "    <tr>\n",
       "      <th>1</th>\n",
       "      <td>2014-10-02 15:52:57.360000+00:00</td>\n",
       "      <td>-10.3478</td>\n",
       "      <td>113.2808</td>\n",
       "      <td>4.2</td>\n",
       "    </tr>\n",
       "    <tr>\n",
       "      <th>2</th>\n",
       "      <td>2014-10-02 19:46:04.280000+00:00</td>\n",
       "      <td>-9.0761</td>\n",
       "      <td>115.9067</td>\n",
       "      <td>4.1</td>\n",
       "    </tr>\n",
       "    <tr>\n",
       "      <th>3</th>\n",
       "      <td>2014-10-03 04:57:28.570000+00:00</td>\n",
       "      <td>-9.1953</td>\n",
       "      <td>110.3486</td>\n",
       "      <td>4.4</td>\n",
       "    </tr>\n",
       "    <tr>\n",
       "      <th>4</th>\n",
       "      <td>2014-10-03 05:26:29.940000+00:00</td>\n",
       "      <td>-9.4264</td>\n",
       "      <td>110.3297</td>\n",
       "      <td>4.5</td>\n",
       "    </tr>\n",
       "  </tbody>\n",
       "</table>\n",
       "</div>"
      ],
      "text/plain": [
       "                              time  latitude  longitude  mag\n",
       "0        2014-09-26 15:38:16+00:00  -20.1000   119.5340  4.4\n",
       "1 2014-10-02 15:52:57.360000+00:00  -10.3478   113.2808  4.2\n",
       "2 2014-10-02 19:46:04.280000+00:00   -9.0761   115.9067  4.1\n",
       "3 2014-10-03 04:57:28.570000+00:00   -9.1953   110.3486  4.4\n",
       "4 2014-10-03 05:26:29.940000+00:00   -9.4264   110.3297  4.5"
      ]
     },
     "execution_count": 1,
     "metadata": {},
     "output_type": "execute_result"
    }
   ],
   "source": [
    "import pandas as pd\n",
    "import matplotlib\n",
    "import matplotlib.pyplot as plt\n",
    "import geopandas as gpd\n",
    "df = pd.read_csv('earthquake_dataset.csv')\n",
    "\n",
    "data_modified = df[['time', 'latitude', 'longitude', 'mag']]\n",
    "\n",
    "data_modified['time'] = pd.to_datetime(df['time'])\n",
    "\n",
    "data_modified.info()\n",
    "data_modified.head()\n",
    "\n",
    "# filtered_data_higher = df[data_modified['mag'] >= 5] \n",
    "# filtered_data_lower = df[data_modified['mag'] < 5]\n",
    "\n",
    "# result_higher = filtered_data_higher[['mag']]\n",
    "# result_lower = filtered_data_lower[['mag']]\n",
    "\n",
    "# count_higher = filtered_data_higher['mag'].count()\n",
    "# count_lower = filtered_data_lower['mag'].count()\n",
    "\n",
    "# print(data_modified.head())\n",
    "\n",
    "# print(\"Number of values with mag >= 5:\", count_higher)\n",
    "\n",
    "# print(\"Number of values with mag < 5:\", count_lower)"
   ]
  },
  {
   "cell_type": "code",
   "execution_count": 7,
   "id": "b0ace29a",
   "metadata": {},
   "outputs": [
    {
     "data": {
      "image/png": "[encoded data removed]",
      "text/plain": [
       "<Figure size 1000x800 with 1 Axes>"
      ]
     },
     "metadata": {},
     "output_type": "display_data"
    }
   ],
   "source": [
    "# Plot map of investigating region\n",
    "df_geo = gpd.GeoDataFrame(data_modified, geometry = gpd.points_from_xy(df.longitude, df.latitude))\n",
    "\n",
    "# Load the world map (downloaded from Natural Earth)\n",
    "# Make sure you point this to the correct file location where the shapefiles are extracted\n",
    "world = gpd.read_file('ne_110m_admin_0_countries/ne_110m_admin_0_countries.shp')\n",
    "\n",
    "# Defining the extent (bounding box) of the map region \n",
    "min_lon, max_lon = -125, 115  # Longitude range\n",
    "min_lat, max_lat = 108, 156     # Latitude range\n",
    "\n",
    "# Plot the selected region\n",
    "fig, ax = plt.subplots(figsize=(10, 8))\n",
    "world.boundary.plot(ax=ax, linewidth=1, color='black')\n",
    "df_geo.plot(ax=ax, marker='o', color='red', markersize=5, alpha=0.5)\n",
    "\n",
    "# Set xlim and ylim to focus on the specifc area we have chosen\n",
    "ax.set_xlim(min_lon, max_lon)\n",
    "ax.set_ylim(min_lat, max_lat)\n",
    "\n",
    "plt.title('Earthquake Locations in the Selected Region')\n",
    "plt.show()"
   ]
  }
 ],
 "metadata": {
  "kernelspec": {
   "display_name": "Python 3 (ipykernel)",
   "language": "python",
   "name": "python3"
  },
  "language_info": {
   "codemirror_mode": {
    "name": "ipython",
    "version": 3
   },
   "file_extension": ".py",
   "mimetype": "text/x-python",
   "name": "python",
   "nbconvert_exporter": "python",
   "pygments_lexer": "ipython3",
   "version": "3.11.9"
  }
 },
 "nbformat": 4,
 "nbformat_minor": 5
}
